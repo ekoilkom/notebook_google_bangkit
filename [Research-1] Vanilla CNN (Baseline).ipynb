{
 "cells": [
  {
   "cell_type": "markdown",
   "metadata": {},
   "source": [
    "### Requirement Library"
   ]
  },
  {
   "cell_type": "code",
   "execution_count": 1,
   "metadata": {},
   "outputs": [
    {
     "name": "stdout",
     "output_type": "stream",
     "text": [
      "2.1.0\n"
     ]
    }
   ],
   "source": [
    "import matplotlib.pyplot as plt\n",
    "import os\n",
    "import tensorflow as tf\n",
    "import warnings\n",
    "\n",
    "from tensorflow.keras.optimizers import RMSprop\n",
    "from tensorflow.keras.preprocessing.image import ImageDataGenerator\n",
    "\n",
    "warnings.filterwarnings('ignore')\n",
    "print(tf.__version__)"
   ]
  },
  {
   "cell_type": "markdown",
   "metadata": {},
   "source": [
    "### Read Data"
   ]
  },
  {
   "cell_type": "code",
   "execution_count": 2,
   "metadata": {},
   "outputs": [],
   "source": [
    "base_dir = 'DATASET'\n",
    "\n",
    "train_dir = os.path.join(base_dir, 'TRAIN')\n",
    "train_dir_organic = os.path.join(train_dir, 'O')\n",
    "train_dir_recyclable = os.path.join(train_dir, 'R')\n",
    "\n",
    "test_dir = os.path.join(base_dir, 'TEST')\n",
    "test_dir_organic = os.path.join(test_dir, 'O')\n",
    "test_dir_recyclable = os.path.join(test_dir, 'R')"
   ]
  },
  {
   "cell_type": "markdown",
   "metadata": {},
   "source": [
    "### Vanilla CNN"
   ]
  },
  {
   "cell_type": "code",
   "execution_count": 3,
   "metadata": {},
   "outputs": [],
   "source": [
    "model = tf.keras.models.Sequential([\n",
    "    tf.keras.layers.Conv2D(16, (3, 3), activation='relu', input_shape=(100, 100, 3)),\n",
    "    tf.keras.layers.MaxPooling2D(2, 2),\n",
    "    tf.keras.layers.Flatten(),\n",
    "    tf.keras.layers.Dense(32, activation='relu'),\n",
    "    tf.keras.layers.Dense(1, activation='sigmoid')\n",
    "])\n",
    "\n",
    "model.compile(optimizer='rmsprop', loss='binary_crossentropy', metrics = ['accuracy'])"
   ]
  },
  {
   "cell_type": "code",
   "execution_count": 4,
   "metadata": {},
   "outputs": [
    {
     "name": "stdout",
     "output_type": "stream",
     "text": [
      "Found 22564 images belonging to 2 classes.\n",
      "Found 2513 images belonging to 2 classes.\n"
     ]
    }
   ],
   "source": [
    "train_datagen = ImageDataGenerator( rescale = 1.0/255. )\n",
    "test_datagen  = ImageDataGenerator( rescale = 1.0/255. )\n",
    "\n",
    "train_generator = train_datagen.flow_from_directory(train_dir,\n",
    "                                                    batch_size=10,\n",
    "                                                    class_mode='binary',\n",
    "                                                    target_size=(100, 100))     \n",
    "\n",
    "\n",
    "validation_generator =  test_datagen.flow_from_directory(test_dir,\n",
    "                                                         batch_size=10,\n",
    "                                                         class_mode  = 'binary',\n",
    "                                                         target_size = (100, 100))\n"
   ]
  },
  {
   "cell_type": "code",
   "execution_count": 5,
   "metadata": {
    "scrolled": true
   },
   "outputs": [
    {
     "name": "stdout",
     "output_type": "stream",
     "text": [
      "WARNING:tensorflow:sample_weight modes were coerced from\n",
      "  ...\n",
      "    to  \n",
      "  ['...']\n",
      "WARNING:tensorflow:sample_weight modes were coerced from\n",
      "  ...\n",
      "    to  \n",
      "  ['...']\n",
      "Train for 2257 steps, validate for 252 steps\n",
      "Epoch 1/50\n",
      "2257/2257 [==============================] - 73s 32ms/step - loss: 0.4663 - accuracy: 0.8027 - val_loss: 0.3951 - val_accuracy: 0.8611\n",
      "Epoch 2/50\n",
      "2257/2257 [==============================] - 72s 32ms/step - loss: 0.4143 - accuracy: 0.8293 - val_loss: 0.3507 - val_accuracy: 0.8838\n",
      "Epoch 3/50\n",
      "2257/2257 [==============================] - 73s 32ms/step - loss: 0.3881 - accuracy: 0.8414 - val_loss: 0.3199 - val_accuracy: 0.8854\n",
      "Epoch 4/50\n",
      "2257/2257 [==============================] - 74s 33ms/step - loss: 0.3668 - accuracy: 0.8520 - val_loss: 0.3231 - val_accuracy: 0.8822\n",
      "Epoch 5/50\n",
      "2257/2257 [==============================] - 73s 32ms/step - loss: 0.3465 - accuracy: 0.8612 - val_loss: 0.3780 - val_accuracy: 0.8595\n",
      "Epoch 6/50\n",
      "2257/2257 [==============================] - 75s 33ms/step - loss: 0.3277 - accuracy: 0.8716 - val_loss: 0.3777 - val_accuracy: 0.8715\n",
      "Epoch 7/50\n",
      "2257/2257 [==============================] - 71s 32ms/step - loss: 0.3049 - accuracy: 0.8829 - val_loss: 0.4357 - val_accuracy: 0.8727\n",
      "Epoch 8/50\n",
      "2257/2257 [==============================] - 71s 32ms/step - loss: 0.2833 - accuracy: 0.8927 - val_loss: 0.6372 - val_accuracy: 0.8114\n",
      "Epoch 9/50\n",
      "2257/2257 [==============================] - 68s 30ms/step - loss: 0.2651 - accuracy: 0.9022 - val_loss: 0.6877 - val_accuracy: 0.7959\n",
      "Epoch 10/50\n",
      "2257/2257 [==============================] - 69s 30ms/step - loss: 0.2432 - accuracy: 0.9099 - val_loss: 0.6158 - val_accuracy: 0.8341\n",
      "Epoch 11/50\n",
      "2257/2257 [==============================] - 73s 32ms/step - loss: 0.2237 - accuracy: 0.9174 - val_loss: 0.6395 - val_accuracy: 0.8341\n",
      "Epoch 12/50\n",
      "2257/2257 [==============================] - 72s 32ms/step - loss: 0.2071 - accuracy: 0.9249 - val_loss: 0.7806 - val_accuracy: 0.8420\n",
      "Epoch 13/50\n",
      "2257/2257 [==============================] - 74s 33ms/step - loss: 0.1905 - accuracy: 0.9327 - val_loss: 0.6933 - val_accuracy: 0.8372\n",
      "Epoch 14/50\n",
      "2257/2257 [==============================] - 72s 32ms/step - loss: 0.1730 - accuracy: 0.9401 - val_loss: 0.6600 - val_accuracy: 0.8460\n",
      "Epoch 15/50\n",
      "2257/2257 [==============================] - 72s 32ms/step - loss: 0.1564 - accuracy: 0.9474 - val_loss: 0.9634 - val_accuracy: 0.8376\n",
      "Epoch 16/50\n",
      "2257/2257 [==============================] - 71s 32ms/step - loss: 0.1440 - accuracy: 0.9519 - val_loss: 0.8260 - val_accuracy: 0.8563\n",
      "Epoch 17/50\n",
      "2257/2257 [==============================] - 71s 32ms/step - loss: 0.1349 - accuracy: 0.9570 - val_loss: 0.8557 - val_accuracy: 0.8273\n",
      "Epoch 18/50\n",
      "2257/2257 [==============================] - 69s 31ms/step - loss: 0.1232 - accuracy: 0.9624 - val_loss: 0.9508 - val_accuracy: 0.8365\n",
      "Epoch 19/50\n",
      "2257/2257 [==============================] - 71s 31ms/step - loss: 0.1111 - accuracy: 0.9663 - val_loss: 0.9845 - val_accuracy: 0.8353\n",
      "Epoch 20/50\n",
      "2257/2257 [==============================] - 72s 32ms/step - loss: 0.0968 - accuracy: 0.9711 - val_loss: 1.0717 - val_accuracy: 0.8388\n",
      "Epoch 21/50\n",
      "2257/2257 [==============================] - 73s 32ms/step - loss: 0.0929 - accuracy: 0.9728 - val_loss: 1.1322 - val_accuracy: 0.8213\n",
      "Epoch 22/50\n",
      "2257/2257 [==============================] - 72s 32ms/step - loss: 0.0858 - accuracy: 0.9760 - val_loss: 1.3587 - val_accuracy: 0.8098\n",
      "Epoch 23/50\n",
      "2257/2257 [==============================] - 73s 32ms/step - loss: 0.0804 - accuracy: 0.9782 - val_loss: 1.2930 - val_accuracy: 0.8257\n",
      "Epoch 24/50\n",
      "2257/2257 [==============================] - 71s 31ms/step - loss: 0.0794 - accuracy: 0.9785 - val_loss: 1.5326 - val_accuracy: 0.8349\n",
      "Epoch 25/50\n",
      "2257/2257 [==============================] - 73s 32ms/step - loss: 0.0750 - accuracy: 0.9810 - val_loss: 1.5064 - val_accuracy: 0.8257\n",
      "Epoch 26/50\n",
      "2257/2257 [==============================] - 72s 32ms/step - loss: 0.0709 - accuracy: 0.9822 - val_loss: 1.2907 - val_accuracy: 0.8257\n",
      "Epoch 27/50\n",
      "2257/2257 [==============================] - 76s 34ms/step - loss: 0.0701 - accuracy: 0.9834 - val_loss: 1.3756 - val_accuracy: 0.8261\n",
      "Epoch 28/50\n",
      "2257/2257 [==============================] - 72s 32ms/step - loss: 0.0644 - accuracy: 0.9848 - val_loss: 1.4463 - val_accuracy: 0.8162\n",
      "Epoch 29/50\n",
      "2257/2257 [==============================] - 70s 31ms/step - loss: 0.0659 - accuracy: 0.9843 - val_loss: 2.2763 - val_accuracy: 0.7986\n",
      "Epoch 30/50\n",
      "2257/2257 [==============================] - 70s 31ms/step - loss: 0.0710 - accuracy: 0.9844 - val_loss: 1.7529 - val_accuracy: 0.8197\n",
      "Epoch 31/50\n",
      "2257/2257 [==============================] - 75s 33ms/step - loss: 0.0670 - accuracy: 0.9856 - val_loss: 1.5584 - val_accuracy: 0.8114\n",
      "Epoch 32/50\n",
      "2257/2257 [==============================] - 75s 33ms/step - loss: 0.0579 - accuracy: 0.9876 - val_loss: 1.6222 - val_accuracy: 0.8197\n",
      "Epoch 33/50\n",
      "2257/2257 [==============================] - 75s 33ms/step - loss: 0.0669 - accuracy: 0.9864 - val_loss: 1.4563 - val_accuracy: 0.8006\n",
      "Epoch 34/50\n",
      "2257/2257 [==============================] - 76s 34ms/step - loss: 0.0604 - accuracy: 0.9882 - val_loss: 2.1830 - val_accuracy: 0.8273\n",
      "Epoch 35/50\n",
      "2257/2257 [==============================] - 77s 34ms/step - loss: 0.0567 - accuracy: 0.9891 - val_loss: 1.2911 - val_accuracy: 0.8257\n",
      "Epoch 36/50\n",
      "2257/2257 [==============================] - 71s 31ms/step - loss: 0.0548 - accuracy: 0.9892 - val_loss: 1.8652 - val_accuracy: 0.8146\n",
      "Epoch 37/50\n",
      "2257/2257 [==============================] - 67s 30ms/step - loss: 0.0539 - accuracy: 0.9897 - val_loss: 1.6913 - val_accuracy: 0.8189\n",
      "Epoch 38/50\n",
      "2257/2257 [==============================] - 72s 32ms/step - loss: 0.0508 - accuracy: 0.9895 - val_loss: 1.8727 - val_accuracy: 0.8301\n",
      "Epoch 39/50\n",
      "2257/2257 [==============================] - 69s 31ms/step - loss: 0.0565 - accuracy: 0.9890 - val_loss: 2.3951 - val_accuracy: 0.8265\n",
      "Epoch 40/50\n",
      "2257/2257 [==============================] - 74s 33ms/step - loss: 0.0504 - accuracy: 0.9905 - val_loss: 1.7125 - val_accuracy: 0.8209\n",
      "Epoch 41/50\n",
      "2257/2257 [==============================] - 70s 31ms/step - loss: 0.0570 - accuracy: 0.9895 - val_loss: 2.2192 - val_accuracy: 0.8062\n",
      "Epoch 42/50\n",
      "2257/2257 [==============================] - 69s 31ms/step - loss: 0.0445 - accuracy: 0.9904 - val_loss: 1.8104 - val_accuracy: 0.8229\n",
      "Epoch 43/50\n",
      "2257/2257 [==============================] - 77s 34ms/step - loss: 0.0507 - accuracy: 0.9908 - val_loss: 2.1508 - val_accuracy: 0.8170\n",
      "Epoch 44/50\n",
      "2257/2257 [==============================] - 70s 31ms/step - loss: 0.0536 - accuracy: 0.9911 - val_loss: 2.1420 - val_accuracy: 0.8380\n",
      "Epoch 45/50\n",
      "2257/2257 [==============================] - 72s 32ms/step - loss: 0.0537 - accuracy: 0.9904 - val_loss: 3.0953 - val_accuracy: 0.7887\n",
      "Epoch 46/50\n",
      "2257/2257 [==============================] - 73s 32ms/step - loss: 0.0523 - accuracy: 0.9904 - val_loss: 2.5919 - val_accuracy: 0.8241\n",
      "Epoch 47/50\n",
      "2257/2257 [==============================] - 72s 32ms/step - loss: 0.0493 - accuracy: 0.9905 - val_loss: 1.9802 - val_accuracy: 0.8281\n",
      "Epoch 48/50\n",
      "2257/2257 [==============================] - 72s 32ms/step - loss: 0.0472 - accuracy: 0.9907 - val_loss: 2.0435 - val_accuracy: 0.8225\n",
      "Epoch 49/50\n",
      "2257/2257 [==============================] - 73s 32ms/step - loss: 0.0522 - accuracy: 0.9907 - val_loss: 2.2909 - val_accuracy: 0.8201\n",
      "Epoch 50/50\n",
      "2257/2257 [==============================] - 71s 31ms/step - loss: 0.0553 - accuracy: 0.9919 - val_loss: 2.8387 - val_accuracy: 0.8269\n"
     ]
    }
   ],
   "source": [
    "history = model.fit(train_generator, \n",
    "                   validation_data = validation_generator,\n",
    "                   epochs=50,\n",
    "                   verbose=1)"
   ]
  },
  {
   "cell_type": "markdown",
   "metadata": {},
   "source": [
    "### Learning Curve"
   ]
  },
  {
   "cell_type": "code",
   "execution_count": 8,
   "metadata": {},
   "outputs": [
    {
     "data": {
      "image/png": "[encoded data removed]",
      "text/plain": [
       "<Figure size 576x576 with 2 Axes>"
      ]
     },
     "metadata": {
      "needs_background": "light"
     },
     "output_type": "display_data"
    }
   ],
   "source": [
    "acc = history.history['accuracy']\n",
    "val_acc = history.history['val_accuracy']\n",
    "\n",
    "loss = history.history['loss']\n",
    "val_loss = history.history['val_loss']\n",
    "\n",
    "plt.figure(figsize=(8, 8))\n",
    "plt.subplot(2, 1, 1)\n",
    "plt.plot(acc, label='Training Accuracy')\n",
    "plt.plot(val_acc, label='Validation Accuracy')\n",
    "plt.legend(loc='lower right')\n",
    "plt.ylabel('Accuracy')\n",
    "plt.ylim([min(plt.ylim()),1])\n",
    "plt.title('Training and Validation Accuracy')\n",
    "\n",
    "plt.subplot(2, 1, 2)\n",
    "plt.plot(loss, label='Training Loss')\n",
    "plt.plot(val_loss, label='Validation Loss')\n",
    "plt.legend(loc='upper right')\n",
    "plt.ylabel('Cross Entropy')\n",
    "plt.ylim([0,1.0])\n",
    "plt.title('Training and Validation Loss')\n",
    "plt.xlabel('Epoch')\n",
    "plt.show()"
   ]
  },
  {
   "cell_type": "markdown",
   "metadata": {},
   "source": [
    "### Save History"
   ]
  },
  {
   "cell_type": "code",
   "execution_count": 7,
   "metadata": {},
   "outputs": [],
   "source": [
    "import pickle\n",
    "\n",
    "pickle_out = open(\"Trained_vanilla_cnn.pickle\",\"wb\")\n",
    "pickle.dump(history.history, pickle_out)\n",
    "pickle_out.close()"
   ]
  },
  {
   "cell_type": "code",
   "execution_count": null,
   "metadata": {},
   "outputs": [],
   "source": [
    "pickle_in = open(\"Trained_vanilla_cnn.pickle\",\"rb\")\n",
    "saved_history = pickle.load(pickle_in)\n",
    "print(len(saved_history))"
   ]
  }
 ],
 "metadata": {
  "kernelspec": {
   "display_name": "Python 3",
   "language": "python",
   "name": "python3"
  },
  "language_info": {
   "codemirror_mode": {
    "name": "ipython",
    "version": 3
   },
   "file_extension": ".py",
   "mimetype": "text/x-python",
   "name": "python",
   "nbconvert_exporter": "python",
   "pygments_lexer": "ipython3",
   "version": "3.7.6"
  }
 },
 "nbformat": 4,
 "nbformat_minor": 4
}
