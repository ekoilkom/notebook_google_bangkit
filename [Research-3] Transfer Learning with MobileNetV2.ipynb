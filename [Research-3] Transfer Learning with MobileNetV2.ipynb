{
 "cells": [
  {
   "cell_type": "markdown",
   "metadata": {
    "colab_type": "text",
    "id": "n6ecAvsmQp1I"
   },
   "source": [
    "## To run this notebook, press the \"Runtime\" button in the menu tab and then press the \"Run all\" button."
   ]
  },
  {
   "cell_type": "markdown",
   "metadata": {
    "colab_type": "text",
    "id": "hRTa3Ee15WsJ"
   },
   "source": [
    "# Recognize Organic Waste and Recycle Waste using Transfer Learning"
   ]
  },
  {
   "cell_type": "code",
   "execution_count": 17,
   "metadata": {
    "colab": {},
    "colab_type": "code",
    "id": "iBMcobPHdD8O"
   },
   "outputs": [
    {
     "data": {
      "text/plain": [
       "'2.2.0'"
      ]
     },
     "execution_count": 17,
     "metadata": {},
     "output_type": "execute_result"
    }
   ],
   "source": [
    "import tensorflow as tf\n",
    "from tensorflow.keras.preprocessing.image import ImageDataGenerator\n",
    "from tensorflow.keras.utils import to_categorical\n",
    "import os\n",
    "import numpy as np\n",
    "import matplotlib.pyplot as plt\n",
    "from PIL import Image\n",
    "import cv2\n",
    "from pathlib import Path\n",
    "from mlxtend.plotting import plot_confusion_matrix\n",
    "from sklearn.metrics import confusion_matrix\n",
    "\n",
    "tf.__version__"
   ]
  },
  {
   "cell_type": "code",
   "execution_count": 2,
   "metadata": {
    "colab": {},
    "colab_type": "code",
    "id": "bNmDn9HgBtaB"
   },
   "outputs": [],
   "source": [
    "TRAINING_DIR = \"Dataset-organic-recycle/TRAIN\"\n",
    "VALIDATION_DIR = \"Dataset-organic-recycle/TEST\""
   ]
  },
  {
   "cell_type": "markdown",
   "metadata": {
    "colab_type": "text",
    "id": "v77rlkCKW0IJ"
   },
   "source": [
    "## Setup Input Pipeline"
   ]
  },
  {
   "cell_type": "markdown",
   "metadata": {
    "colab_type": "text",
    "id": "z4gTv7ig2vMh"
   },
   "source": [
    "Use `ImageDataGenerator` to rescale the images. rotation_range,horizontal_flip, shear_range and fill mode to minimum augmentation in train image\n",
    "\n",
    "Create the train generator and specify where the train dataset directory, image size, batch size.\n",
    "\n",
    "Create the validation generator with similar approach as the train generator with the flow_from_directory() method."
   ]
  },
  {
   "cell_type": "code",
   "execution_count": 3,
   "metadata": {
    "colab": {},
    "colab_type": "code",
    "id": "NbXhXslHBv6c"
   },
   "outputs": [
    {
     "name": "stdout",
     "output_type": "stream",
     "text": [
      "Found 22564 images belonging to 2 classes.\n",
      "Found 2513 images belonging to 2 classes.\n"
     ]
    }
   ],
   "source": [
    "#ImageData Generator\n",
    "batch_size = 128\n",
    "image_size=224\n",
    "training_datagen = ImageDataGenerator(\n",
    "      rescale=1./255,\n",
    "      rotation_range=20,\n",
    "      horizontal_flip=True,\n",
    "      shear_range = 0.2,\n",
    "      fill_mode = 'nearest')\n",
    "\n",
    "validation_datagen = ImageDataGenerator(\n",
    "      rescale = 1./255)\n",
    "\n",
    "train_generator = training_datagen.flow_from_directory(\n",
    "\tTRAINING_DIR,\n",
    "\ttarget_size=(image_size,image_size),\n",
    "    #class_mode='binary',\n",
    "  batch_size=batch_size\n",
    ")\n",
    "\n",
    "validation_generator = validation_datagen.flow_from_directory(\n",
    "\tVALIDATION_DIR,\n",
    "\ttarget_size=(image_size,image_size),\n",
    "\t#class_mode='binary',\n",
    "  batch_size=batch_size\n",
    ")"
   ]
  },
  {
   "cell_type": "code",
   "execution_count": 4,
   "metadata": {
    "colab": {},
    "colab_type": "code",
    "id": "Ufz26tcqB16M"
   },
   "outputs": [
    {
     "name": "stdout",
     "output_type": "stream",
     "text": [
      "22564\n",
      "2513\n"
     ]
    }
   ],
   "source": [
    "#Get Size train_generator and validation_generator\n",
    "train_num = train_generator.samples\n",
    "valid_num = validation_generator.samples\n",
    "\n",
    "print(train_num)\n",
    "print(valid_num)"
   ]
  },
  {
   "cell_type": "code",
   "execution_count": 5,
   "metadata": {
    "colab": {},
    "colab_type": "code",
    "id": "tx1L7fxxWA_G"
   },
   "outputs": [
    {
     "data": {
      "text/plain": [
       "((128, 224, 224, 3), (128, 2))"
      ]
     },
     "execution_count": 5,
     "metadata": {},
     "output_type": "execute_result"
    }
   ],
   "source": [
    "for image_batch, label_batch in train_generator:\n",
    "  break\n",
    "image_batch.shape, label_batch.shape"
   ]
  },
  {
   "cell_type": "markdown",
   "metadata": {
    "colab_type": "text",
    "id": "ZrFFcwUb3iK9"
   },
   "source": [
    "Save the labels in a file which will be downloaded later with TFLITE file"
   ]
  },
  {
   "cell_type": "code",
   "execution_count": 6,
   "metadata": {
    "colab": {},
    "colab_type": "code",
    "id": "-QFZIhWs4dsq"
   },
   "outputs": [
    {
     "name": "stdout",
     "output_type": "stream",
     "text": [
      "{'O': 0, 'R': 1}\n"
     ]
    }
   ],
   "source": [
    "print (train_generator.class_indices)\n",
    "\n",
    "labels = '\\n'.join(sorted(train_generator.class_indices.keys()))\n",
    "\n",
    "with open('labels_riset3.txt', 'w') as f:\n",
    "  f.write(labels)"
   ]
  },
  {
   "cell_type": "code",
   "execution_count": 7,
   "metadata": {
    "colab": {},
    "colab_type": "code",
    "id": "duxD_UDSOmng"
   },
   "outputs": [
    {
     "name": "stdout",
     "output_type": "stream",
     "text": [
      "O\r\n",
      "R"
     ]
    }
   ],
   "source": [
    "!cat labels_riset1.txt"
   ]
  },
  {
   "cell_type": "markdown",
   "metadata": {
    "colab_type": "text",
    "id": "OkH-kazQecHB"
   },
   "source": [
    "## Create the base model from the pre-trained convnets\n",
    "\n",
    "Create the base model from the **MobileNet V2** model developed at Google, and pre-trained on the ImageNet dataset, a large dataset of 1.4M images and 1000 classes of web images.\n",
    "\n",
    "First, pick which intermediate layer of MobileNet V2 will be used for feature extraction. A common practice is to use the output of the very last layer before the flatten operation, the so-called \"bottleneck layer\". The reasoning here is that the following fully-connected layers will be too specialized to the task the network was trained on, and thus the features learned by these layers won't be very useful for a new task. The bottleneck features, however, retain much generality.\n",
    "\n",
    "Let's instantiate an MobileNet V2 model pre-loaded with weights trained on ImageNet. By specifying the `include_top=False` argument, we load a network that doesn't include the classification layers at the top, which is ideal for feature extraction."
   ]
  },
  {
   "cell_type": "code",
   "execution_count": 8,
   "metadata": {
    "colab": {},
    "colab_type": "code",
    "id": "19IQ2gqneqmS"
   },
   "outputs": [],
   "source": [
    "IMG_SHAPE = (image_size, image_size, 3)\n",
    "\n",
    "# Create the base model from the pre-trained model MobileNet V2\n",
    "base_model = tf.keras.applications.MobileNetV2(input_shape=IMG_SHAPE,\n",
    "                                              include_top=False, \n",
    "                                              weights='imagenet')"
   ]
  },
  {
   "cell_type": "markdown",
   "metadata": {
    "colab_type": "text",
    "id": "rlx56nQtfe8Y"
   },
   "source": [
    "## Feature extraction\n",
    "You will freeze the convolutional base created from the previous step and use that as a feature extractor, add a classifier on top of it and train the top-level classifier."
   ]
  },
  {
   "cell_type": "code",
   "execution_count": 9,
   "metadata": {
    "colab": {},
    "colab_type": "code",
    "id": "Tts8BbAtRGvk"
   },
   "outputs": [],
   "source": [
    "base_model.trainable = False"
   ]
  },
  {
   "cell_type": "markdown",
   "metadata": {
    "colab_type": "text",
    "id": "wdMRM8YModbk"
   },
   "source": [
    "### Add a classification head"
   ]
  },
  {
   "cell_type": "code",
   "execution_count": 10,
   "metadata": {
    "colab": {},
    "colab_type": "code",
    "id": "eApvroIyn1K0"
   },
   "outputs": [],
   "source": [
    "model = tf.keras.Sequential([\n",
    "  base_model,\n",
    "  tf.keras.layers.Conv2D(32, 3, activation='relu'),\n",
    "  tf.keras.layers.Dropout(0.5),\n",
    "  tf.keras.layers.GlobalAveragePooling2D(),\n",
    "  tf.keras.layers.Dense(2, activation='softmax')\n",
    "])"
   ]
  },
  {
   "cell_type": "markdown",
   "metadata": {
    "colab_type": "text",
    "id": "g0ylJXE_kRLi"
   },
   "source": [
    "### Compile the model\n",
    "\n",
    "You must compile the model before training it.  Since there are multiple classes, use a categorical cross-entropy loss."
   ]
  },
  {
   "cell_type": "code",
   "execution_count": 11,
   "metadata": {
    "colab": {},
    "colab_type": "code",
    "id": "RpR8HdyMhukJ"
   },
   "outputs": [],
   "source": [
    "model.compile(optimizer=tf.keras.optimizers.RMSprop(lr=0.0001), \n",
    "              loss='binary_crossentropy', \n",
    "              metrics=['accuracy'])"
   ]
  },
  {
   "cell_type": "code",
   "execution_count": 12,
   "metadata": {
    "colab": {},
    "colab_type": "code",
    "id": "I8ARiyMFsgbH"
   },
   "outputs": [
    {
     "name": "stdout",
     "output_type": "stream",
     "text": [
      "Model: \"sequential\"\n",
      "_________________________________________________________________\n",
      "Layer (type)                 Output Shape              Param #   \n",
      "=================================================================\n",
      "mobilenetv2_1.00_224 (Model) (None, 7, 7, 1280)        2257984   \n",
      "_________________________________________________________________\n",
      "conv2d (Conv2D)              (None, 5, 5, 32)          368672    \n",
      "_________________________________________________________________\n",
      "dropout (Dropout)            (None, 5, 5, 32)          0         \n",
      "_________________________________________________________________\n",
      "global_average_pooling2d (Gl (None, 32)                0         \n",
      "_________________________________________________________________\n",
      "dense (Dense)                (None, 2)                 66        \n",
      "=================================================================\n",
      "Total params: 2,626,722\n",
      "Trainable params: 368,738\n",
      "Non-trainable params: 2,257,984\n",
      "_________________________________________________________________\n"
     ]
    }
   ],
   "source": [
    "model.summary()"
   ]
  },
  {
   "cell_type": "code",
   "execution_count": 13,
   "metadata": {
    "colab": {},
    "colab_type": "code",
    "id": "krvBumovycVA"
   },
   "outputs": [
    {
     "name": "stdout",
     "output_type": "stream",
     "text": [
      "Number of trainable variables = 4\n"
     ]
    }
   ],
   "source": [
    "print('Number of trainable variables = {}'.format(len(model.trainable_variables)))"
   ]
  },
  {
   "cell_type": "markdown",
   "metadata": {
    "colab_type": "text",
    "id": "RxvgOYTDSWTx"
   },
   "source": [
    "### Train the model\n",
    "\n",
    "<!-- TODO(markdaoust): delete steps_per_epoch in TensorFlow r1.14/r2.0 -->"
   ]
  },
  {
   "cell_type": "code",
   "execution_count": 14,
   "metadata": {
    "colab": {},
    "colab_type": "code",
    "id": "JsaRFlZ9B6WK"
   },
   "outputs": [
    {
     "name": "stdout",
     "output_type": "stream",
     "text": [
      "Epoch 1/15\n",
      "176/176 [==============================] - ETA: 0s - loss: 0.2821 - accuracy: 0.8920\n",
      "Epoch 00001: val_loss improved from inf to 0.27553, saving model to save/best_model.h5\n",
      "176/176 [==============================] - 864s 5s/step - loss: 0.2821 - accuracy: 0.8920 - val_loss: 0.2755 - val_accuracy: 0.8771\n",
      "Epoch 2/15\n",
      "176/176 [==============================] - ETA: 0s - loss: 0.1709 - accuracy: 0.9345\n",
      "Epoch 00002: val_loss improved from 0.27553 to 0.24747, saving model to save/best_model.h5\n",
      "176/176 [==============================] - 803s 5s/step - loss: 0.1709 - accuracy: 0.9345 - val_loss: 0.2475 - val_accuracy: 0.8976\n",
      "Epoch 3/15\n",
      "176/176 [==============================] - ETA: 0s - loss: 0.1471 - accuracy: 0.9445\n",
      "Epoch 00003: val_loss did not improve from 0.24747\n",
      "176/176 [==============================] - 887s 5s/step - loss: 0.1471 - accuracy: 0.9445 - val_loss: 0.3049 - val_accuracy: 0.8672\n",
      "Epoch 4/15\n",
      "176/176 [==============================] - ETA: 0s - loss: 0.1279 - accuracy: 0.9517\n",
      "Epoch 00004: val_loss did not improve from 0.24747\n",
      "176/176 [==============================] - 866s 5s/step - loss: 0.1279 - accuracy: 0.9517 - val_loss: 0.2490 - val_accuracy: 0.8923\n",
      "Epoch 5/15\n",
      "176/176 [==============================] - ETA: 0s - loss: 0.1161 - accuracy: 0.9556\n",
      "Epoch 00005: val_loss did not improve from 0.24747\n",
      "176/176 [==============================] - 944s 5s/step - loss: 0.1161 - accuracy: 0.9556 - val_loss: 0.2548 - val_accuracy: 0.8951\n",
      "Epoch 6/15\n",
      "176/176 [==============================] - ETA: 0s - loss: 0.1070 - accuracy: 0.9581\n",
      "Epoch 00006: val_loss did not improve from 0.24747\n",
      "176/176 [==============================] - 915s 5s/step - loss: 0.1070 - accuracy: 0.9581 - val_loss: 0.2857 - val_accuracy: 0.8816\n",
      "Epoch 7/15\n",
      "176/176 [==============================] - ETA: 0s - loss: 0.0992 - accuracy: 0.9623\n",
      "Epoch 00007: val_loss improved from 0.24747 to 0.21739, saving model to save/best_model.h5\n",
      "176/176 [==============================] - 609s 3s/step - loss: 0.0992 - accuracy: 0.9623 - val_loss: 0.2174 - val_accuracy: 0.9145\n",
      "Epoch 8/15\n",
      "176/176 [==============================] - ETA: 0s - loss: 0.0922 - accuracy: 0.9656\n",
      "Epoch 00008: val_loss did not improve from 0.21739\n",
      "176/176 [==============================] - 552s 3s/step - loss: 0.0922 - accuracy: 0.9656 - val_loss: 0.2602 - val_accuracy: 0.8939\n",
      "Epoch 9/15\n",
      "176/176 [==============================] - ETA: 0s - loss: 0.0891 - accuracy: 0.9659\n",
      "Epoch 00009: val_loss did not improve from 0.21739\n",
      "176/176 [==============================] - 547s 3s/step - loss: 0.0891 - accuracy: 0.9659 - val_loss: 0.2452 - val_accuracy: 0.9062\n",
      "Epoch 10/15\n",
      "176/176 [==============================] - ETA: 0s - loss: 0.0832 - accuracy: 0.9675\n",
      "Epoch 00010: val_loss did not improve from 0.21739\n",
      "176/176 [==============================] - 531s 3s/step - loss: 0.0832 - accuracy: 0.9675 - val_loss: 0.2837 - val_accuracy: 0.8894\n",
      "Epoch 11/15\n",
      "176/176 [==============================] - ETA: 0s - loss: 0.0779 - accuracy: 0.9713\n",
      "Epoch 00011: val_loss did not improve from 0.21739\n",
      "176/176 [==============================] - 556s 3s/step - loss: 0.0779 - accuracy: 0.9713 - val_loss: 0.2622 - val_accuracy: 0.8997\n",
      "Epoch 12/15\n",
      "176/176 [==============================] - ETA: 0s - loss: 0.0749 - accuracy: 0.9716\n",
      "Epoch 00012: val_loss did not improve from 0.21739\n",
      "176/176 [==============================] - 544s 3s/step - loss: 0.0749 - accuracy: 0.9716 - val_loss: 0.3137 - val_accuracy: 0.8824\n",
      "Epoch 13/15\n",
      "176/176 [==============================] - ETA: 0s - loss: 0.0677 - accuracy: 0.9752\n",
      "Epoch 00013: val_loss did not improve from 0.21739\n",
      "176/176 [==============================] - 560s 3s/step - loss: 0.0677 - accuracy: 0.9752 - val_loss: 0.3386 - val_accuracy: 0.8738\n",
      "Epoch 14/15\n",
      "176/176 [==============================] - ETA: 0s - loss: 0.0661 - accuracy: 0.9747\n",
      "Epoch 00014: val_loss did not improve from 0.21739\n",
      "176/176 [==============================] - 561s 3s/step - loss: 0.0661 - accuracy: 0.9747 - val_loss: 0.4642 - val_accuracy: 0.8396\n",
      "Epoch 15/15\n",
      "176/176 [==============================] - ETA: 0s - loss: 0.0616 - accuracy: 0.9766\n",
      "Epoch 00015: val_loss did not improve from 0.21739\n",
      "176/176 [==============================] - 568s 3s/step - loss: 0.0616 - accuracy: 0.9766 - val_loss: 0.2304 - val_accuracy: 0.9178\n"
     ]
    }
   ],
   "source": [
    "# import other libs as needed for building model\n",
    "from tensorflow.keras.callbacks import ModelCheckpoint\n",
    "\n",
    "epochs = 15\n",
    "\n",
    "filepath = 'save/best_model.h5'\n",
    "\n",
    "checkpoint = ModelCheckpoint(filepath, monitor='val_loss', verbose=1, \\\n",
    "                             save_best_only=True, save_weights_only=False, \\\n",
    "                             mode='auto', save_frequency=1)\n",
    "\n",
    "history = model.fit(train_generator, \n",
    "                    epochs=epochs, \n",
    "                    steps_per_epoch=train_num//batch_size, \n",
    "                    validation_data = validation_generator,\n",
    "                    validation_steps=valid_num//batch_size,\n",
    "                    callbacks=[checkpoint])"
   ]
  },
  {
   "cell_type": "markdown",
   "metadata": {
    "colab_type": "text",
    "id": "Hd94CKImf8vi"
   },
   "source": [
    "### Learning curves\n",
    "\n",
    "Let's take a look at the learning curves of the training and validation accuracy/loss when using the MobileNet V2 base model as a fixed feature extractor. "
   ]
  },
  {
   "cell_type": "code",
   "execution_count": 16,
   "metadata": {
    "colab": {},
    "colab_type": "code",
    "id": "53OTCh3jnbwV"
   },
   "outputs": [
    {
     "data": {
      "image/png": "[encoded data removed]",
      "text/plain": [
       "<Figure size 576x576 with 2 Axes>"
      ]
     },
     "metadata": {
      "needs_background": "light"
     },
     "output_type": "display_data"
    }
   ],
   "source": [
    "acc = history.history['accuracy']\n",
    "val_acc = history.history['val_accuracy']\n",
    "\n",
    "loss = history.history['loss']\n",
    "val_loss = history.history['val_loss']\n",
    "\n",
    "plt.figure(figsize=(8, 8))\n",
    "plt.subplot(2, 1, 1)\n",
    "plt.plot(acc, label='Training Accuracy')\n",
    "plt.plot(val_acc, label='Validation Accuracy')\n",
    "plt.legend(loc='lower right')\n",
    "plt.ylabel('Accuracy')\n",
    "plt.ylim([min(plt.ylim()),1])\n",
    "plt.title('Training and Validation Accuracy')\n",
    "\n",
    "plt.subplot(2, 1, 2)\n",
    "plt.plot(loss, label='Training Loss')\n",
    "plt.plot(val_loss, label='Validation Loss')\n",
    "plt.legend(loc='upper right')\n",
    "plt.ylabel('Cross Entropy')\n",
    "plt.ylim([0,1.0])\n",
    "plt.title('Training and Validation Loss')\n",
    "plt.xlabel('epoch')\n",
    "plt.show()"
   ]
  },
  {
   "cell_type": "markdown",
   "metadata": {
    "colab_type": "text",
    "id": "CqwV-CRdS6Nv"
   },
   "source": [
    "## Fine tuning\n",
    "In our feature extraction experiment, you were only training a few layers on top of an MobileNet V2 base model. The weights of the pre-trained network were **not** updated during training.\n",
    "\n",
    "One way to increase performance even further is to train (or \"fine-tune\") the weights of the top layers of the pre-trained model alongside the training of the classifier you added. The training process will force the weights to be tuned from generic features maps to features associated specifically to our dataset."
   ]
  },
  {
   "cell_type": "markdown",
   "metadata": {
    "colab_type": "text",
    "id": "CPXnzUK0QonF"
   },
   "source": [
    "### Un-freeze the top layers of the model\n"
   ]
  },
  {
   "cell_type": "markdown",
   "metadata": {
    "colab_type": "text",
    "id": "rfxv_ifotQak"
   },
   "source": [
    "All you need to do is unfreeze the `base_model` and set the bottom layers be un-trainable. Then, recompile the model (necessary for these changes to take effect), and resume training."
   ]
  },
  {
   "cell_type": "code",
   "execution_count": 17,
   "metadata": {
    "colab": {},
    "colab_type": "code",
    "id": "4nzcagVitLQm"
   },
   "outputs": [],
   "source": [
    "base_model.trainable = True"
   ]
  },
  {
   "cell_type": "code",
   "execution_count": 18,
   "metadata": {
    "colab": {},
    "colab_type": "code",
    "id": "-4HgVAacRs5v"
   },
   "outputs": [
    {
     "name": "stdout",
     "output_type": "stream",
     "text": [
      "Number of layers in the base model:  155\n"
     ]
    }
   ],
   "source": [
    "# Let's take a look to see how many layers are in the base model\n",
    "print(\"Number of layers in the base model: \", len(base_model.layers))\n",
    "\n",
    "# Fine tune from this layer onwards\n",
    "fine_tune_at = 100\n",
    "\n",
    "# Freeze all the layers before the `fine_tune_at` layer\n",
    "for layer in base_model.layers[:fine_tune_at]:\n",
    "  layer.trainable =  False"
   ]
  },
  {
   "cell_type": "markdown",
   "metadata": {
    "colab_type": "text",
    "id": "4Uk1dgsxT0IS"
   },
   "source": [
    "### Compile the model\n",
    "\n",
    "Compile the model using a much lower training rate."
   ]
  },
  {
   "cell_type": "code",
   "execution_count": 19,
   "metadata": {
    "colab": {},
    "colab_type": "code",
    "id": "NtUnaz0WUDva"
   },
   "outputs": [],
   "source": [
    "model.compile(loss='binary_crossentropy',\n",
    "              optimizer=tf.keras.optimizers.RMSprop(lr=0.0001), \n",
    "              metrics=['accuracy'])"
   ]
  },
  {
   "cell_type": "code",
   "execution_count": 20,
   "metadata": {
    "colab": {},
    "colab_type": "code",
    "id": "WwBWy7J2kZvA"
   },
   "outputs": [
    {
     "name": "stdout",
     "output_type": "stream",
     "text": [
      "Model: \"sequential\"\n",
      "_________________________________________________________________\n",
      "Layer (type)                 Output Shape              Param #   \n",
      "=================================================================\n",
      "mobilenetv2_1.00_224 (Model) (None, 7, 7, 1280)        2257984   \n",
      "_________________________________________________________________\n",
      "conv2d (Conv2D)              (None, 5, 5, 32)          368672    \n",
      "_________________________________________________________________\n",
      "dropout (Dropout)            (None, 5, 5, 32)          0         \n",
      "_________________________________________________________________\n",
      "global_average_pooling2d (Gl (None, 32)                0         \n",
      "_________________________________________________________________\n",
      "dense (Dense)                (None, 2)                 66        \n",
      "=================================================================\n",
      "Total params: 2,626,722\n",
      "Trainable params: 2,231,330\n",
      "Non-trainable params: 395,392\n",
      "_________________________________________________________________\n"
     ]
    }
   ],
   "source": [
    "model.summary()"
   ]
  },
  {
   "cell_type": "code",
   "execution_count": 21,
   "metadata": {
    "colab": {},
    "colab_type": "code",
    "id": "bNXelbMQtonr"
   },
   "outputs": [
    {
     "name": "stdout",
     "output_type": "stream",
     "text": [
      "Number of trainable variables = 60\n"
     ]
    }
   ],
   "source": [
    "print('Number of trainable variables = {}'.format(len(model.trainable_variables)))"
   ]
  },
  {
   "cell_type": "markdown",
   "metadata": {
    "colab_type": "text",
    "id": "4G5O4jd6TuAG"
   },
   "source": [
    "### Continue Train the model"
   ]
  },
  {
   "cell_type": "code",
   "execution_count": 23,
   "metadata": {
    "colab": {},
    "colab_type": "code",
    "id": "ECQLkAsFTlun"
   },
   "outputs": [
    {
     "name": "stdout",
     "output_type": "stream",
     "text": [
      "Epoch 1/5\n",
      "176/176 [==============================] - ETA: 0s - loss: 0.1322 - accuracy: 0.9540\n",
      "Epoch 00001: val_loss improved from inf to 0.38179, saving model to save/best_model_tunning.h5\n",
      "176/176 [==============================] - 723s 4s/step - loss: 0.1322 - accuracy: 0.9540 - val_loss: 0.3818 - val_accuracy: 0.8956\n",
      "Epoch 2/5\n",
      "176/176 [==============================] - ETA: 0s - loss: 0.0723 - accuracy: 0.9735\n",
      "Epoch 00002: val_loss did not improve from 0.38179\n",
      "176/176 [==============================] - 765s 4s/step - loss: 0.0723 - accuracy: 0.9735 - val_loss: 0.5770 - val_accuracy: 0.8873\n",
      "Epoch 3/5\n",
      "176/176 [==============================] - ETA: 0s - loss: 0.0473 - accuracy: 0.9819\n",
      "Epoch 00003: val_loss did not improve from 0.38179\n",
      "176/176 [==============================] - 852s 5s/step - loss: 0.0473 - accuracy: 0.9819 - val_loss: 0.7286 - val_accuracy: 0.8705\n",
      "Epoch 4/5\n",
      "176/176 [==============================] - ETA: 0s - loss: 0.0358 - accuracy: 0.9873\n",
      "Epoch 00004: val_loss did not improve from 0.38179\n",
      "176/176 [==============================] - 883s 5s/step - loss: 0.0358 - accuracy: 0.9873 - val_loss: 0.9437 - val_accuracy: 0.8257\n",
      "Epoch 5/5\n",
      "176/176 [==============================] - ETA: 0s - loss: 0.0261 - accuracy: 0.9907\n",
      "Epoch 00005: val_loss did not improve from 0.38179\n",
      "176/176 [==============================] - 918s 5s/step - loss: 0.0261 - accuracy: 0.9907 - val_loss: 0.8016 - val_accuracy: 0.8664\n"
     ]
    }
   ],
   "source": [
    "filepath = 'save/best_model_tunning.h5'\n",
    "\n",
    "checkpoint = ModelCheckpoint(filepath, monitor='val_loss', verbose=1, \\\n",
    "                             save_best_only=True, save_weights_only=False, \\\n",
    "                             mode='auto', save_frequency=1)\n",
    "\n",
    "history_fine = model.fit(train_generator, \n",
    "                    epochs=5, \n",
    "                    steps_per_epoch=train_num//batch_size, \n",
    "                    validation_data = validation_generator,\n",
    "                    validation_steps=valid_num//batch_size,\n",
    "                         callbacks=[checkpoint])"
   ]
  },
  {
   "cell_type": "markdown",
   "metadata": {},
   "source": [
    "## Conclusion\n",
    "\n",
    "After we see the results of the training and fine tuning, we can see the validation of the accuracy of the training is better than after going through the fine tuning stage which trains the weight. So we will use the model of the best validation results obtained from the callback"
   ]
  },
  {
   "cell_type": "markdown",
   "metadata": {
    "colab_type": "text",
    "id": "kRDabW_u1wnv"
   },
   "source": [
    "## Convert to TFLite"
   ]
  },
  {
   "cell_type": "markdown",
   "metadata": {
    "colab_type": "text",
    "id": "hNvMl6CM6lG4"
   },
   "source": [
    "Saved the model using `tf.saved_model.save` and then convert the saved model to a tf lite compatible format."
   ]
  },
  {
   "cell_type": "code",
   "execution_count": 20,
   "metadata": {
    "colab": {},
    "colab_type": "code",
    "id": "_LZiKVInWNGy"
   },
   "outputs": [],
   "source": [
    "from tensorflow import keras\n",
    "saved_model_file = 'save/best_model.h5'\n",
    "\n",
    "best_model = keras.models.load_model(saved_model_file)\n",
    "converter = tf.lite.TFLiteConverter.from_keras_model(best_model)\n",
    "tflite_model = converter.convert()\n",
    "\n",
    "with open('model_riset3_softmax.tflite', 'wb') as f:\n",
    "  f.write(tflite_model)"
   ]
  },
  {
   "cell_type": "markdown",
   "metadata": {
    "colab_type": "text",
    "id": "GE4w-9S410Dk"
   },
   "source": [
    "Download the converted model and labels"
   ]
  },
  {
   "cell_type": "code",
   "execution_count": null,
   "metadata": {
    "colab": {},
    "colab_type": "code",
    "id": "x47uW_lI1DoV"
   },
   "outputs": [],
   "source": [
    "#from google.colab import files\n",
    "\n",
    "#files.download('model_riset1.tflite')\n",
    "#files.download('labels_riset1.txt')"
   ]
  },
  {
   "cell_type": "markdown",
   "metadata": {
    "colab_type": "text",
    "id": "TfXEmsxQf6eP"
   },
   "source": [
    "Let's take a look at the learning curves of the training and validation accuracy/loss, when fine tuning the last few layers of the MobileNet V2 base model and training the classifier on top of it. The validation loss is much higher than the training loss, so you may get some overfitting.\n",
    "\n",
    "You may also get some overfitting as the new training set is relatively small and similar to the original MobileNet V2 datasets.\n"
   ]
  },
  {
   "cell_type": "code",
   "execution_count": 25,
   "metadata": {
    "colab": {},
    "colab_type": "code",
    "id": "chW103JUItdk"
   },
   "outputs": [
    {
     "data": {
      "image/png": "[encoded data removed]",
      "text/plain": [
       "<Figure size 576x576 with 2 Axes>"
      ]
     },
     "metadata": {
      "needs_background": "light"
     },
     "output_type": "display_data"
    }
   ],
   "source": [
    "acc = history_fine.history['accuracy']\n",
    "val_acc = history_fine.history['val_accuracy']\n",
    "\n",
    "loss = history_fine.history['loss']\n",
    "val_loss = history_fine.history['val_loss']\n",
    "\n",
    "plt.figure(figsize=(8, 8))\n",
    "plt.subplot(2, 1, 1)\n",
    "plt.plot(acc, label='Training Accuracy')\n",
    "plt.plot(val_acc, label='Validation Accuracy')\n",
    "plt.legend(loc='lower right')\n",
    "plt.ylabel('Accuracy')\n",
    "plt.ylim([min(plt.ylim()),1])\n",
    "plt.title('Training and Validation Accuracy')\n",
    "\n",
    "plt.subplot(2, 1, 2)\n",
    "plt.plot(loss, label='Training Loss')\n",
    "plt.plot(val_loss, label='Validation Loss')\n",
    "plt.legend(loc='upper right')\n",
    "plt.ylabel('Cross Entropy')\n",
    "plt.ylim([0,1.0])\n",
    "plt.title('Training and Validation Loss')\n",
    "plt.xlabel('epoch')\n",
    "plt.show()"
   ]
  },
  {
   "cell_type": "code",
   "execution_count": 32,
   "metadata": {},
   "outputs": [
    {
     "name": "stdout",
     "output_type": "stream",
     "text": [
      "[[0.19465236 0.8053476 ]]\n"
     ]
    }
   ],
   "source": [
    "from tensorflow.keras.preprocessing import image\n",
    "\n",
    "path = \"/Users/mac-eko/RisetDeepLearning/Riset Sampah Recycle-Organik/Dataset-organic-recycle/TEST/R/R_10421.jpg\"\n",
    "img = image.load_img(path, target_size=(224, 224))\n",
    "x = image.img_to_array(img)\n",
    "x = np.expand_dims(x, axis=0)\n",
    "\n",
    "images = np.vstack([x])\n",
    "classes = model.predict(images, batch_size=5)\n",
    "  \n",
    "  #print(fn)\n",
    "print(classes)\n",
    "max_index_col = np.argmax(classes, axis=1)"
   ]
  },
  {
   "cell_type": "code",
   "execution_count": 26,
   "metadata": {},
   "outputs": [
    {
     "name": "stdout",
     "output_type": "stream",
     "text": [
      "Total number of test examples:  (1401, 224, 224, 3)\n",
      "Total number of labels: (1401, 2)\n"
     ]
    }
   ],
   "source": [
    "# Preparing test data\n",
    "PATH_TEST=Path(\"/Users/mac-eko/RisetDeepLearning/Riset Sampah Recycle-Organik/Dataset-organic-recycle/TEST\")\n",
    "organic_dir = PATH_TEST / 'O'\n",
    "recycle_dir = PATH_TEST / 'R'\n",
    "\n",
    "organic_waste = organic_dir.glob('*.jpg')\n",
    "recycle_waste = recycle_dir.glob('*.jpg')\n",
    "\n",
    "test_data = []\n",
    "test_labels = []\n",
    "\n",
    "for img in organic_waste:\n",
    "    img = cv2.imread(str(img))\n",
    "    img = cv2.resize(img, (224,224))\n",
    "    if img.shape[2] ==1:\n",
    "        img = np.dstack([img, img, img])\n",
    "    else:\n",
    "        img = cv2.cvtColor(img, cv2.COLOR_BGR2RGB)\n",
    "    img = img.astype(np.float32)/255.\n",
    "    label = to_categorical(0, num_classes=2)\n",
    "    test_data.append(img)\n",
    "    test_labels.append(label)\n",
    "                      \n",
    "#for img in recycle_waste:\n",
    "#    img = cv2.imread(str(img))\n",
    "#    img = cv2.resize(img, (224,224))\n",
    "#    if img.shape[2] ==1:\n",
    "#        img = np.dstack([img, img, img])\n",
    "#    else:\n",
    "#        img = cv2.cvtColor(img, cv2.COLOR_BGR2RGB)\n",
    "#    img = img.astype(np.float32)/255.\n",
    "#    label = to_categorical(1, num_classes=2)\n",
    "#    test_data.append(img)\n",
    "#    test_labels.append(label)\n",
    "    \n",
    "\n",
    "test_data = np.array(test_data)\n",
    "test_labels = np.array(test_labels)\n",
    "\n",
    "print(\"Total number of test examples: \", test_data.shape)\n",
    "print(\"Total number of labels:\", test_labels.shape)"
   ]
  },
  {
   "cell_type": "code",
   "execution_count": 33,
   "metadata": {},
   "outputs": [
    {
     "name": "stdout",
     "output_type": "stream",
     "text": [
      "(1401,)\n",
      "(1401,)\n"
     ]
    }
   ],
   "source": [
    "# Get predictions\n",
    "preds = model.predict(test_data, batch_size=16)\n",
    "preds = np.argmax(preds, axis=-1)\n",
    "\n",
    "# Original labels\n",
    "orig_test_labels = np.argmax(test_labels, axis=-1)\n",
    "\n",
    "print(orig_test_labels.shape)\n",
    "print(preds.shape)"
   ]
  },
  {
   "cell_type": "code",
   "execution_count": 34,
   "metadata": {},
   "outputs": [
    {
     "data": {
      "text/plain": [
       "<Figure size 432x288 with 0 Axes>"
      ]
     },
     "metadata": {},
     "output_type": "display_data"
    },
    {
     "data": {
      "image/png": "[encoded data removed]",
      "text/plain": [
       "<Figure size 864x576 with 1 Axes>"
      ]
     },
     "metadata": {
      "needs_background": "light"
     },
     "output_type": "display_data"
    }
   ],
   "source": [
    "# Get the confusion matrix\n",
    "cm  = confusion_matrix(orig_test_labels, preds)\n",
    "plt.figure()\n",
    "plot_confusion_matrix(cm,figsize=(12,8), hide_ticks=True, cmap=plt.cm.Blues)\n",
    "plt.xticks(range(2), ['Organic', 'Recycle'], fontsize=16)\n",
    "plt.yticks(range(2), ['Organic', 'Recycle'], fontsize=16)\n",
    "plt.show()"
   ]
  },
  {
   "cell_type": "code",
   "execution_count": null,
   "metadata": {},
   "outputs": [],
   "source": []
  }
 ],
 "metadata": {
  "accelerator": "GPU",
  "colab": {
   "collapsed_sections": [],
   "name": "Simple Kaggle X-Ray- 2 Class (Non Quantified)",
   "private_outputs": true,
   "provenance": [],
   "toc_visible": true
  },
  "kernelspec": {
   "display_name": "Python 3",
   "language": "python",
   "name": "python3"
  },
  "language_info": {
   "codemirror_mode": {
    "name": "ipython",
    "version": 3
   },
   "file_extension": ".py",
   "mimetype": "text/x-python",
   "name": "python",
   "nbconvert_exporter": "python",
   "pygments_lexer": "ipython3",
   "version": "3.7.7"
  }
 },
 "nbformat": 4,
 "nbformat_minor": 1
}
