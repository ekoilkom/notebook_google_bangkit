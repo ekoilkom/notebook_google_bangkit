{
 "cells": [
  {
   "cell_type": "markdown",
   "metadata": {},
   "source": [
    "### Requirement Library"
   ]
  },
  {
   "cell_type": "code",
   "execution_count": 1,
   "metadata": {},
   "outputs": [
    {
     "name": "stdout",
     "output_type": "stream",
     "text": [
      "2.1.0\n"
     ]
    }
   ],
   "source": [
    "import matplotlib.pyplot as plt\n",
    "import os\n",
    "import tensorflow as tf\n",
    "import warnings\n",
    "\n",
    "from tensorflow.keras.optimizers import RMSprop\n",
    "from tensorflow.keras.preprocessing.image import ImageDataGenerator\n",
    "\n",
    "warnings.filterwarnings('ignore')\n",
    "print(tf.__version__)"
   ]
  },
  {
   "cell_type": "markdown",
   "metadata": {},
   "source": [
    "### Read Data"
   ]
  },
  {
   "cell_type": "code",
   "execution_count": 2,
   "metadata": {},
   "outputs": [],
   "source": [
    "base_dir = 'DATASET'\n",
    "\n",
    "train_dir = os.path.join(base_dir, 'TRAIN')\n",
    "train_dir_organic = os.path.join(train_dir, 'O')\n",
    "train_dir_recyclable = os.path.join(train_dir, 'R')\n",
    "\n",
    "test_dir = os.path.join(base_dir, 'TEST')\n",
    "test_dir_organic = os.path.join(test_dir, 'O')\n",
    "test_dir_recyclable = os.path.join(test_dir, 'R')"
   ]
  },
  {
   "cell_type": "markdown",
   "metadata": {},
   "source": [
    "### Vanilla CNN"
   ]
  },
  {
   "cell_type": "code",
   "execution_count": 3,
   "metadata": {},
   "outputs": [],
   "source": [
    "model = tf.keras.models.Sequential([\n",
    "    tf.keras.layers.Conv2D(16, (3, 3), activation='relu', input_shape=(150, 150, 3)),\n",
    "    tf.keras.layers.MaxPooling2D(2, 2),\n",
    "    tf.keras.layers.Flatten(),\n",
    "    tf.keras.layers.Dense(32, activation='relu'),\n",
    "    tf.keras.layers.Dense(1, activation='sigmoid')\n",
    "])\n",
    "\n",
    "model.compile(optimizer='rmsprop', loss='binary_crossentropy', metrics = ['accuracy'])"
   ]
  },
  {
   "cell_type": "code",
   "execution_count": 4,
   "metadata": {},
   "outputs": [
    {
     "name": "stdout",
     "output_type": "stream",
     "text": [
      "Found 22564 images belonging to 2 classes.\n",
      "Found 2513 images belonging to 2 classes.\n"
     ]
    }
   ],
   "source": [
    "train_datagen = ImageDataGenerator( rescale = 1.0/255.,\n",
    "                                   rotation_range=20,\n",
    "                                   horizontal_flip=True,\n",
    "                                   shear_range = 0.2,\n",
    "                                   fill_mode = 'nearest')\n",
    "\n",
    "test_datagen  = ImageDataGenerator( rescale = 1.0/255. )\n",
    "\n",
    "train_generator = train_datagen.flow_from_directory(train_dir,\n",
    "                                                    batch_size=132,\n",
    "                                                    class_mode='binary',\n",
    "                                                    target_size=(150, 150))     \n",
    "\n",
    "\n",
    "validation_generator =  test_datagen.flow_from_directory(test_dir,\n",
    "                                                         batch_size=32,\n",
    "                                                         class_mode  = 'binary',\n",
    "                                                         target_size = (150, 150))\n"
   ]
  },
  {
   "cell_type": "code",
   "execution_count": 6,
   "metadata": {
    "scrolled": true
   },
   "outputs": [
    {
     "name": "stdout",
     "output_type": "stream",
     "text": [
      "WARNING:tensorflow:sample_weight modes were coerced from\n",
      "  ...\n",
      "    to  \n",
      "  ['...']\n",
      "WARNING:tensorflow:sample_weight modes were coerced from\n",
      "  ...\n",
      "    to  \n",
      "  ['...']\n",
      "Train for 171 steps, validate for 79 steps\n",
      "Epoch 1/30\n",
      "171/171 [==============================] - 145s 850ms/step - loss: 0.4669 - accuracy: 0.7933 - val_loss: 0.3642 - val_accuracy: 0.8635\n",
      "Epoch 2/30\n",
      "171/171 [==============================] - 149s 871ms/step - loss: 0.4256 - accuracy: 0.8139 - val_loss: 0.3843 - val_accuracy: 0.8452\n",
      "Epoch 3/30\n",
      "171/171 [==============================] - 146s 852ms/step - loss: 0.4084 - accuracy: 0.8219 - val_loss: 0.3426 - val_accuracy: 0.8647\n",
      "Epoch 4/30\n",
      "171/171 [==============================] - 145s 850ms/step - loss: 0.3989 - accuracy: 0.8257 - val_loss: 0.3330 - val_accuracy: 0.8774\n",
      "Epoch 5/30\n",
      "171/171 [==============================] - 142s 831ms/step - loss: 0.3914 - accuracy: 0.8304 - val_loss: 0.3540 - val_accuracy: 0.8711\n",
      "Epoch 6/30\n",
      "171/171 [==============================] - 150s 875ms/step - loss: 0.3867 - accuracy: 0.8337 - val_loss: 0.3378 - val_accuracy: 0.8818\n",
      "Epoch 7/30\n",
      "171/171 [==============================] - 149s 872ms/step - loss: 0.3830 - accuracy: 0.8363 - val_loss: 0.3241 - val_accuracy: 0.8902\n",
      "Epoch 8/30\n",
      "171/171 [==============================] - 148s 863ms/step - loss: 0.3763 - accuracy: 0.8385 - val_loss: 0.3534 - val_accuracy: 0.8739\n",
      "Epoch 9/30\n",
      "171/171 [==============================] - 145s 850ms/step - loss: 0.3732 - accuracy: 0.8405 - val_loss: 0.3861 - val_accuracy: 0.8623\n",
      "Epoch 10/30\n",
      "171/171 [==============================] - 145s 850ms/step - loss: 0.3715 - accuracy: 0.8417 - val_loss: 0.3643 - val_accuracy: 0.8655\n",
      "Epoch 11/30\n",
      "171/171 [==============================] - 149s 871ms/step - loss: 0.3656 - accuracy: 0.8434 - val_loss: 0.3548 - val_accuracy: 0.8806\n",
      "Epoch 12/30\n",
      "171/171 [==============================] - 142s 829ms/step - loss: 0.3637 - accuracy: 0.8432 - val_loss: 0.3521 - val_accuracy: 0.8762\n",
      "Epoch 13/30\n",
      "171/171 [==============================] - 143s 836ms/step - loss: 0.3628 - accuracy: 0.8448 - val_loss: 0.3883 - val_accuracy: 0.8623\n",
      "Epoch 14/30\n",
      "171/171 [==============================] - 143s 835ms/step - loss: 0.3603 - accuracy: 0.8457 - val_loss: 0.3462 - val_accuracy: 0.8794\n",
      "Epoch 15/30\n",
      "171/171 [==============================] - 142s 832ms/step - loss: 0.3573 - accuracy: 0.8470 - val_loss: 0.3546 - val_accuracy: 0.8635\n",
      "Epoch 16/30\n",
      "171/171 [==============================] - 150s 879ms/step - loss: 0.3555 - accuracy: 0.8477 - val_loss: 0.3810 - val_accuracy: 0.8631\n",
      "Epoch 17/30\n",
      "171/171 [==============================] - 147s 858ms/step - loss: 0.3536 - accuracy: 0.8503 - val_loss: 0.3650 - val_accuracy: 0.8695\n",
      "Epoch 18/30\n",
      "171/171 [==============================] - 146s 855ms/step - loss: 0.3533 - accuracy: 0.8519 - val_loss: 0.3556 - val_accuracy: 0.8786\n",
      "Epoch 19/30\n",
      "171/171 [==============================] - 163s 955ms/step - loss: 0.3490 - accuracy: 0.8528 - val_loss: 0.4077 - val_accuracy: 0.8277\n",
      "Epoch 20/30\n",
      "171/171 [==============================] - 143s 836ms/step - loss: 0.3486 - accuracy: 0.8528 - val_loss: 0.3464 - val_accuracy: 0.8850\n",
      "Epoch 21/30\n",
      "171/171 [==============================] - 145s 847ms/step - loss: 0.3464 - accuracy: 0.8536 - val_loss: 0.3758 - val_accuracy: 0.8631\n",
      "Epoch 22/30\n",
      "171/171 [==============================] - 142s 827ms/step - loss: 0.3461 - accuracy: 0.8520 - val_loss: 0.3720 - val_accuracy: 0.8500\n",
      "Epoch 23/30\n",
      "171/171 [==============================] - 142s 830ms/step - loss: 0.3453 - accuracy: 0.8510 - val_loss: 0.3397 - val_accuracy: 0.8898\n",
      "Epoch 24/30\n",
      "171/171 [==============================] - 143s 837ms/step - loss: 0.3418 - accuracy: 0.8557 - val_loss: 0.3757 - val_accuracy: 0.8571\n",
      "Epoch 25/30\n",
      "171/171 [==============================] - 146s 851ms/step - loss: 0.3387 - accuracy: 0.8565 - val_loss: 0.3698 - val_accuracy: 0.8774\n",
      "Epoch 26/30\n",
      "171/171 [==============================] - 220s 1s/step - loss: 0.3390 - accuracy: 0.8569 - val_loss: 0.3657 - val_accuracy: 0.8735\n",
      "Epoch 27/30\n",
      "171/171 [==============================] - 157s 915ms/step - loss: 0.3393 - accuracy: 0.8570 - val_loss: 0.3477 - val_accuracy: 0.8798\n",
      "Epoch 28/30\n",
      "171/171 [==============================] - 144s 839ms/step - loss: 0.3425 - accuracy: 0.8562 - val_loss: 0.3701 - val_accuracy: 0.8754\n",
      "Epoch 29/30\n",
      "171/171 [==============================] - 143s 836ms/step - loss: 0.3359 - accuracy: 0.8588 - val_loss: 0.3448 - val_accuracy: 0.8735\n",
      "Epoch 30/30\n",
      "171/171 [==============================] - 143s 834ms/step - loss: 0.3370 - accuracy: 0.8587 - val_loss: 0.3534 - val_accuracy: 0.8802\n"
     ]
    }
   ],
   "source": [
    "history = model.fit(train_generator, \n",
    "                   validation_data = validation_generator,\n",
    "                   epochs=30,\n",
    "                   verbose=1)"
   ]
  },
  {
   "cell_type": "markdown",
   "metadata": {},
   "source": [
    "### Learning Curve"
   ]
  },
  {
   "cell_type": "code",
   "execution_count": 7,
   "metadata": {},
   "outputs": [
    {
     "data": {
      "image/png": "[encoded data removed]",
      "text/plain": [
       "<Figure size 576x576 with 2 Axes>"
      ]
     },
     "metadata": {
      "needs_background": "light"
     },
     "output_type": "display_data"
    }
   ],
   "source": [
    "acc = history.history['accuracy']\n",
    "val_acc = history.history['val_accuracy']\n",
    "\n",
    "loss = history.history['loss']\n",
    "val_loss = history.history['val_loss']\n",
    "\n",
    "plt.figure(figsize=(8, 8))\n",
    "plt.subplot(2, 1, 1)\n",
    "plt.plot(acc, label='Training Accuracy')\n",
    "plt.plot(val_acc, label='Validation Accuracy')\n",
    "plt.legend(loc='lower right')\n",
    "plt.ylabel('Accuracy')\n",
    "plt.ylim([min(plt.ylim()),1])\n",
    "plt.title('Training and Validation Accuracy')\n",
    "\n",
    "plt.subplot(2, 1, 2)\n",
    "plt.plot(loss, label='Training Loss')\n",
    "plt.plot(val_loss, label='Validation Loss')\n",
    "plt.legend(loc='upper right')\n",
    "plt.ylabel('Cross Entropy')\n",
    "plt.ylim([0,1.0])\n",
    "plt.title('Training and Validation Loss')\n",
    "plt.xlabel('Epoch')\n",
    "plt.show()"
   ]
  },
  {
   "cell_type": "markdown",
   "metadata": {},
   "source": [
    "### Save History"
   ]
  },
  {
   "cell_type": "code",
   "execution_count": 9,
   "metadata": {},
   "outputs": [],
   "source": [
    "import pickle\n",
    "\n",
    "pickle_out = open(\"Trained_vanilla_cnn_with_data_augmentation.pickle\",\"wb\")\n",
    "pickle.dump(history.history, pickle_out)\n",
    "pickle_out.close()"
   ]
  },
  {
   "cell_type": "code",
   "execution_count": 11,
   "metadata": {},
   "outputs": [
    {
     "name": "stdout",
     "output_type": "stream",
     "text": [
      "4\n"
     ]
    }
   ],
   "source": [
    "pickle_in = open(\"Trained_vanilla_cnn_with_data_augmentation.pickle\",\"rb\")\n",
    "saved_history = pickle.load(pickle_in)\n",
    "print(len(saved_history))"
   ]
  },
  {
   "cell_type": "code",
   "execution_count": null,
   "metadata": {},
   "outputs": [],
   "source": []
  }
 ],
 "metadata": {
  "kernelspec": {
   "display_name": "Python 3",
   "language": "python",
   "name": "python3"
  },
  "language_info": {
   "codemirror_mode": {
    "name": "ipython",
    "version": 3
   },
   "file_extension": ".py",
   "mimetype": "text/x-python",
   "name": "python",
   "nbconvert_exporter": "python",
   "pygments_lexer": "ipython3",
   "version": "3.7.6"
  }
 },
 "nbformat": 4,
 "nbformat_minor": 4
}
